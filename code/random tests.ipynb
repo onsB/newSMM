{
 "cells": [
  {
   "cell_type": "code",
   "execution_count": 28,
   "metadata": {},
   "outputs": [],
   "source": [
    "import numpy as np\n",
    "import bounded_multivariate_SMM as smm\n",
    "from sklearn import datasets\n",
    "from scipy.spatial import distance"
   ]
  },
  {
   "cell_type": "code",
   "execution_count": 22,
   "metadata": {},
   "outputs": [
    {
     "name": "stdout",
     "output_type": "stream",
     "text": [
      "[[0.083      0.085      0.025     ]\n",
      " [0.085      0.11766667 0.029     ]\n",
      " [0.025      0.029      0.019     ]]\n",
      "[[4.91549001 3.32263623 1.42390617]\n",
      " [4.96440782 3.39060437 1.4611226 ]\n",
      " [4.81408946 3.23197545 1.39446781]\n",
      " [5.00321825 3.44082948 1.47634589]\n",
      " [5.07208731 3.55167511 1.48279645]\n",
      " [4.80815784 3.23947916 1.41850394]\n",
      " [4.93652183 3.36104709 1.44753024]\n",
      " [4.98119644 3.3960749  1.45190744]\n",
      " [4.90211692 3.3467697  1.43762737]\n",
      " [4.98428284 3.40909287 1.44784961]]\n"
     ]
    }
   ],
   "source": [
    "iris = datasets.load_iris()\n",
    "x = iris.data[:6,:3]\n",
    "cov = np.cov(x.T)\n",
    "mean = np.mean(x, axis = 0)\n",
    "print(cov)\n",
    "z = np.random.normal(size = (10, cov.shape[0]))\n",
    "s = z.dot(cov)+mean\n",
    "print(s)"
   ]
  },
  {
   "cell_type": "code",
   "execution_count": 26,
   "metadata": {},
   "outputs": [
    {
     "name": "stdout",
     "output_type": "stream",
     "text": [
      "[1 1 1 1 1 1 1 1 1 1]\n"
     ]
    }
   ],
   "source": [
    "up = np.amax(x, axis=0)\n",
    "low = np.amin(x, axis=0)\n",
    "ind = np.array([int(np.where(((xi < up).all() and (xi > low).all()), 1, 0)) for xi in s])\n",
    "print(ind)"
   ]
  },
  {
   "cell_type": "code",
   "execution_count": 47,
   "metadata": {},
   "outputs": [],
   "source": [
    "def h(xi, mu, sig):\n",
    "    '''gamma weights for the bounded version of SMM'''\n",
    "    d = xi.shape[0]\n",
    "    numer = 10 + d\n",
    "    mah = distance.mahalanobis(xi, mu, sig)\n",
    "    denom = 10 + mah\n",
    "    return numer / denom"
   ]
  },
  {
   "cell_type": "code",
   "execution_count": 30,
   "metadata": {},
   "outputs": [
    {
     "data": {
      "text/plain": [
       "array([[4.91549001, 3.32263623, 1.42390617],\n",
       "       [4.96440782, 3.39060437, 1.4611226 ],\n",
       "       [4.81408946, 3.23197545, 1.39446781],\n",
       "       [5.00321825, 3.44082948, 1.47634589],\n",
       "       [5.07208731, 3.55167511, 1.48279645],\n",
       "       [4.80815784, 3.23947916, 1.41850394],\n",
       "       [4.93652183, 3.36104709, 1.44753024],\n",
       "       [4.98119644, 3.3960749 , 1.45190744],\n",
       "       [4.90211692, 3.3467697 , 1.43762737],\n",
       "       [4.98428284, 3.40909287, 1.44784961]])"
      ]
     },
     "execution_count": 30,
     "metadata": {},
     "output_type": "execute_result"
    }
   ],
   "source": [
    "s"
   ]
  },
  {
   "cell_type": "code",
   "execution_count": 31,
   "metadata": {},
   "outputs": [
    {
     "data": {
      "text/plain": [
       "array([[-0.03450999, -0.06069711, -0.02609383],\n",
       "       [ 0.01440782,  0.00727104,  0.0111226 ],\n",
       "       [-0.13591054, -0.15135788, -0.05553219],\n",
       "       [ 0.05321825,  0.05749614,  0.02634589],\n",
       "       [ 0.12208731,  0.16834178,  0.03279645],\n",
       "       [-0.14184216, -0.14385417, -0.03149606],\n",
       "       [-0.01347817, -0.02228624, -0.00246976],\n",
       "       [ 0.03119644,  0.01274157,  0.00190744],\n",
       "       [-0.04788308, -0.03656364, -0.01237263],\n",
       "       [ 0.03428284,  0.02575954, -0.00215039]])"
      ]
     },
     "execution_count": 31,
     "metadata": {},
     "output_type": "execute_result"
    }
   ],
   "source": [
    "s-mean"
   ]
  },
  {
   "cell_type": "code",
   "execution_count": 39,
   "metadata": {},
   "outputs": [
    {
     "data": {
      "text/plain": [
       "array([[0.06234987, 0.07011913, 0.01909325],\n",
       "       [0.07011913, 0.08164448, 0.02211291],\n",
       "       [0.01909325, 0.02211291, 0.00681758]])"
      ]
     },
     "execution_count": 39,
     "metadata": {},
     "output_type": "execute_result"
    }
   ],
   "source": [
    "np.matmul((s-mean).T,s-mean)"
   ]
  },
  {
   "cell_type": "code",
   "execution_count": 44,
   "metadata": {},
   "outputs": [
    {
     "data": {
      "text/plain": [
       "array([0.06234987, 0.08164448, 0.00681758])"
      ]
     },
     "execution_count": 44,
     "metadata": {},
     "output_type": "execute_result"
    }
   ],
   "source": [
    "((s-mean)**2).sum(axis = 0)"
   ]
  },
  {
   "cell_type": "code",
   "execution_count": 48,
   "metadata": {},
   "outputs": [],
   "source": [
    "h_s = np.array([h(xi,mean,cov) for xi in s])"
   ]
  },
  {
   "cell_type": "code",
   "execution_count": 49,
   "metadata": {},
   "outputs": [
    {
     "data": {
      "text/plain": [
       "array([1.29582458, 1.29902518, 1.28802116, 1.29530218, 1.28805063,\n",
       "       1.2884195 , 1.29852198, 1.29829776, 1.29655981, 1.29768246])"
      ]
     },
     "execution_count": 49,
     "metadata": {},
     "output_type": "execute_result"
    }
   ],
   "source": [
    "h_s"
   ]
  },
  {
   "cell_type": "code",
   "execution_count": null,
   "metadata": {},
   "outputs": [],
   "source": []
  }
 ],
 "metadata": {
  "kernelspec": {
   "display_name": "Python 3",
   "language": "python",
   "name": "python3"
  },
  "language_info": {
   "codemirror_mode": {
    "name": "ipython",
    "version": 3
   },
   "file_extension": ".py",
   "mimetype": "text/x-python",
   "name": "python",
   "nbconvert_exporter": "python",
   "pygments_lexer": "ipython3",
   "version": "3.7.4"
  }
 },
 "nbformat": 4,
 "nbformat_minor": 2
}
